{
 "cells": [
  {
   "cell_type": "code",
   "execution_count": 18,
   "metadata": {},
   "outputs": [
    {
     "name": "stdout",
     "output_type": "stream",
     "text": [
      "   Crop Type Soil Type  Temperature (°C)  Humidity (%)  Soil Moisture (%)  \\\n",
      "0      Wheat      Silt             31.83         68.20              42.28   \n",
      "1      Wheat     Sandy             11.47         53.97              93.81   \n",
      "2    Soybean      Silt             42.05         46.77              95.93   \n",
      "3     Barley      Silt             13.15         52.30              10.12   \n",
      "4  Sugarcane     Sandy             38.97         48.61              58.02   \n",
      "\n",
      "   Rainfall (mm)  Water Requirement (L/sq.m)  \n",
      "0           2.65                        3.42  \n",
      "1         244.31                        0.00  \n",
      "2         264.71                        0.00  \n",
      "3         204.36                        0.00  \n",
      "4         228.59                        0.00  \n"
     ]
    }
   ],
   "source": [
    "import pandas as pd\n",
    "\n",
    "df = pd.read_csv(\"irrigation_data.csv\")\n",
    "\n",
    "print(df.head())"
   ]
  },
  {
   "cell_type": "code",
   "execution_count": 19,
   "metadata": {},
   "outputs": [
    {
     "name": "stdout",
     "output_type": "stream",
     "text": [
      "   Crop Type  Soil Type  Temperature (°C)  Humidity (%)  Soil Moisture (%)  \\\n",
      "0          7          4             31.83         68.20              42.28   \n",
      "1          7          3             11.47         53.97              93.81   \n",
      "2          4          4             42.05         46.77              95.93   \n",
      "3          0          4             13.15         52.30              10.12   \n",
      "4          5          3             38.97         48.61              58.02   \n",
      "\n",
      "   Rainfall (mm)  Water Requirement (L/sq.m)  \n",
      "0           2.65                        3.42  \n",
      "1         244.31                        0.00  \n",
      "2         264.71                        0.00  \n",
      "3         204.36                        0.00  \n",
      "4         228.59                        0.00  \n"
     ]
    }
   ],
   "source": [
    "from sklearn.preprocessing import LabelEncoder\n",
    "\n",
    "label_enc_crop = LabelEncoder()\n",
    "label_enc_soil = LabelEncoder()\n",
    "\n",
    "df[\"Crop Type\"] = label_enc_crop.fit_transform(df[\"Crop Type\"])\n",
    "df[\"Soil Type\"] = label_enc_soil.fit_transform(df[\"Soil Type\"])\n",
    "\n",
    "import joblib\n",
    "joblib.dump(label_enc_crop, \"crop_encoder.pkl\")\n",
    "joblib.dump(label_enc_soil, \"soil_encoder.pkl\")\n",
    "\n",
    "# Display processed dataset\n",
    "print(df.head())\n"
   ]
  },
  {
   "cell_type": "code",
   "execution_count": 20,
   "metadata": {},
   "outputs": [],
   "source": [
    "from sklearn.model_selection import train_test_split\n",
    "\n",
    "# Features (X) and target variable (y)\n",
    "X = df.drop(columns=[\"Water Requirement (L/sq.m)\"])\n",
    "y = df[\"Water Requirement (L/sq.m)\"]\n",
    "\n",
    "# Split into train and test sets (80% train, 20% test)\n",
    "X_train, X_test, y_train, y_test = train_test_split(X, y, test_size=0.2, random_state=42)\n"
   ]
  },
  {
   "cell_type": "code",
   "execution_count": 21,
   "metadata": {},
   "outputs": [
    {
     "name": "stdout",
     "output_type": "stream",
     "text": [
      "Model trained and saved successfully!\n"
     ]
    }
   ],
   "source": [
    "from sklearn.ensemble import RandomForestRegressor\n",
    "\n",
    "model = RandomForestRegressor(n_estimators=100, random_state=42)\n",
    "\n",
    "model.fit(X_train, y_train)\n",
    "\n",
    "joblib.dump(model, \"irrigation_model.pkl\")\n",
    "print(\"Model trained and saved successfully!\")\n"
   ]
  },
  {
   "cell_type": "code",
   "execution_count": 22,
   "metadata": {},
   "outputs": [
    {
     "name": "stdout",
     "output_type": "stream",
     "text": [
      "MAE: 0.06880225000000004, RMSE: 0.22997757561336288\n"
     ]
    }
   ],
   "source": [
    "from sklearn.metrics import mean_absolute_error, mean_squared_error\n",
    "\n",
    "# Predict on test set\n",
    "y_pred = model.predict(X_test)\n",
    "\n",
    "# Evaluate performance\n",
    "mae = mean_absolute_error(y_test, y_pred)\n",
    "mse = mean_squared_error(y_test, y_pred)\n",
    "rmse = mse ** 0.5\n",
    "\n",
    "print(f\"MAE: {mae}, RMSE: {rmse}\")\n"
   ]
  },
  {
   "cell_type": "code",
   "execution_count": 23,
   "metadata": {},
   "outputs": [
    {
     "name": "stdout",
     "output_type": "stream",
     "text": [
      "Predicted Water Requirement: 4.161999999999998 L/sq.m\n"
     ]
    }
   ],
   "source": [
    "model = joblib.load(\"irrigation_model.pkl\")\n",
    "crop_encoder = joblib.load(\"crop_encoder.pkl\")\n",
    "soil_encoder = joblib.load(\"soil_encoder.pkl\")\n",
    "\n",
    "new_data = {\n",
    "    \"Crop Type\": \"Wheat\",\n",
    "    \"Soil Type\": \"Loamy\",\n",
    "    \"Temperature (°C)\": 30,\n",
    "    \"Humidity (%)\": 50,\n",
    "    \"Soil Moisture (%)\": 40,\n",
    "    \"Rainfall (mm)\": 10\n",
    "}\n",
    "\n",
    "new_data[\"Crop Type\"] = crop_encoder.transform([new_data[\"Crop Type\"]])[0]\n",
    "new_data[\"Soil Type\"] = soil_encoder.transform([new_data[\"Soil Type\"]])[0]\n",
    "\n",
    "\n",
    "input_df = pd.DataFrame([new_data])\n",
    "\n",
    "predicted_water = model.predict(input_df)[0]\n",
    "\n",
    "print(f\"Predicted Water Requirement: {predicted_water} L/sq.m\")\n"
   ]
  },
  {
   "cell_type": "code",
   "execution_count": 24,
   "metadata": {},
   "outputs": [],
   "source": [
    "labels = [\n",
    "    {v: i for i, v in enumerate(df[\"Soil Type\"].unique())},\n",
    "    {v: i for i, v in enumerate(df[\"Crop Type\"].unique())},\n",
    "]\n"
   ]
  },
  {
   "cell_type": "code",
   "execution_count": 13,
   "metadata": {},
   "outputs": [
    {
     "data": {
      "text/plain": [
       "[{np.int64(4): 0,\n",
       "  np.int64(3): 1,\n",
       "  np.int64(2): 2,\n",
       "  np.int64(1): 3,\n",
       "  np.int64(0): 4},\n",
       " {np.int64(7): 0,\n",
       "  np.int64(4): 1,\n",
       "  np.int64(0): 2,\n",
       "  np.int64(5): 3,\n",
       "  np.int64(3): 4,\n",
       "  np.int64(2): 5,\n",
       "  np.int64(6): 6,\n",
       "  np.int64(1): 7}]"
      ]
     },
     "execution_count": 13,
     "metadata": {},
     "output_type": "execute_result"
    }
   ],
   "source": [
    "labels"
   ]
  },
  {
   "cell_type": "code",
   "execution_count": 25,
   "metadata": {},
   "outputs": [
    {
     "data": {
      "text/html": [
       "<div>\n",
       "<style scoped>\n",
       "    .dataframe tbody tr th:only-of-type {\n",
       "        vertical-align: middle;\n",
       "    }\n",
       "\n",
       "    .dataframe tbody tr th {\n",
       "        vertical-align: top;\n",
       "    }\n",
       "\n",
       "    .dataframe thead th {\n",
       "        text-align: right;\n",
       "    }\n",
       "</style>\n",
       "<table border=\"1\" class=\"dataframe\">\n",
       "  <thead>\n",
       "    <tr style=\"text-align: right;\">\n",
       "      <th></th>\n",
       "      <th>Crop Type</th>\n",
       "      <th>Soil Type</th>\n",
       "      <th>Temperature (°C)</th>\n",
       "      <th>Humidity (%)</th>\n",
       "      <th>Soil Moisture (%)</th>\n",
       "      <th>Rainfall (mm)</th>\n",
       "      <th>Water Requirement (L/sq.m)</th>\n",
       "    </tr>\n",
       "  </thead>\n",
       "  <tbody>\n",
       "    <tr>\n",
       "      <th>0</th>\n",
       "      <td>7</td>\n",
       "      <td>4</td>\n",
       "      <td>31.83</td>\n",
       "      <td>68.20</td>\n",
       "      <td>42.28</td>\n",
       "      <td>2.65</td>\n",
       "      <td>3.42</td>\n",
       "    </tr>\n",
       "    <tr>\n",
       "      <th>1</th>\n",
       "      <td>7</td>\n",
       "      <td>3</td>\n",
       "      <td>11.47</td>\n",
       "      <td>53.97</td>\n",
       "      <td>93.81</td>\n",
       "      <td>244.31</td>\n",
       "      <td>0.00</td>\n",
       "    </tr>\n",
       "    <tr>\n",
       "      <th>2</th>\n",
       "      <td>4</td>\n",
       "      <td>4</td>\n",
       "      <td>42.05</td>\n",
       "      <td>46.77</td>\n",
       "      <td>95.93</td>\n",
       "      <td>264.71</td>\n",
       "      <td>0.00</td>\n",
       "    </tr>\n",
       "    <tr>\n",
       "      <th>3</th>\n",
       "      <td>0</td>\n",
       "      <td>4</td>\n",
       "      <td>13.15</td>\n",
       "      <td>52.30</td>\n",
       "      <td>10.12</td>\n",
       "      <td>204.36</td>\n",
       "      <td>0.00</td>\n",
       "    </tr>\n",
       "    <tr>\n",
       "      <th>4</th>\n",
       "      <td>5</td>\n",
       "      <td>3</td>\n",
       "      <td>38.97</td>\n",
       "      <td>48.61</td>\n",
       "      <td>58.02</td>\n",
       "      <td>228.59</td>\n",
       "      <td>0.00</td>\n",
       "    </tr>\n",
       "    <tr>\n",
       "      <th>...</th>\n",
       "      <td>...</td>\n",
       "      <td>...</td>\n",
       "      <td>...</td>\n",
       "      <td>...</td>\n",
       "      <td>...</td>\n",
       "      <td>...</td>\n",
       "      <td>...</td>\n",
       "    </tr>\n",
       "    <tr>\n",
       "      <th>9995</th>\n",
       "      <td>4</td>\n",
       "      <td>3</td>\n",
       "      <td>42.71</td>\n",
       "      <td>11.75</td>\n",
       "      <td>81.45</td>\n",
       "      <td>117.58</td>\n",
       "      <td>0.77</td>\n",
       "    </tr>\n",
       "    <tr>\n",
       "      <th>9996</th>\n",
       "      <td>1</td>\n",
       "      <td>3</td>\n",
       "      <td>27.37</td>\n",
       "      <td>63.32</td>\n",
       "      <td>18.00</td>\n",
       "      <td>282.62</td>\n",
       "      <td>0.00</td>\n",
       "    </tr>\n",
       "    <tr>\n",
       "      <th>9997</th>\n",
       "      <td>6</td>\n",
       "      <td>2</td>\n",
       "      <td>33.27</td>\n",
       "      <td>37.77</td>\n",
       "      <td>45.65</td>\n",
       "      <td>280.79</td>\n",
       "      <td>0.00</td>\n",
       "    </tr>\n",
       "    <tr>\n",
       "      <th>9998</th>\n",
       "      <td>2</td>\n",
       "      <td>4</td>\n",
       "      <td>29.89</td>\n",
       "      <td>59.56</td>\n",
       "      <td>0.31</td>\n",
       "      <td>275.22</td>\n",
       "      <td>0.00</td>\n",
       "    </tr>\n",
       "    <tr>\n",
       "      <th>9999</th>\n",
       "      <td>7</td>\n",
       "      <td>1</td>\n",
       "      <td>23.89</td>\n",
       "      <td>89.63</td>\n",
       "      <td>17.79</td>\n",
       "      <td>50.64</td>\n",
       "      <td>0.00</td>\n",
       "    </tr>\n",
       "  </tbody>\n",
       "</table>\n",
       "<p>10000 rows × 7 columns</p>\n",
       "</div>"
      ],
      "text/plain": [
       "      Crop Type  Soil Type  Temperature (°C)  Humidity (%)  Soil Moisture (%)  \\\n",
       "0             7          4             31.83         68.20              42.28   \n",
       "1             7          3             11.47         53.97              93.81   \n",
       "2             4          4             42.05         46.77              95.93   \n",
       "3             0          4             13.15         52.30              10.12   \n",
       "4             5          3             38.97         48.61              58.02   \n",
       "...         ...        ...               ...           ...                ...   \n",
       "9995          4          3             42.71         11.75              81.45   \n",
       "9996          1          3             27.37         63.32              18.00   \n",
       "9997          6          2             33.27         37.77              45.65   \n",
       "9998          2          4             29.89         59.56               0.31   \n",
       "9999          7          1             23.89         89.63              17.79   \n",
       "\n",
       "      Rainfall (mm)  Water Requirement (L/sq.m)  \n",
       "0              2.65                        3.42  \n",
       "1            244.31                        0.00  \n",
       "2            264.71                        0.00  \n",
       "3            204.36                        0.00  \n",
       "4            228.59                        0.00  \n",
       "...             ...                         ...  \n",
       "9995         117.58                        0.77  \n",
       "9996         282.62                        0.00  \n",
       "9997         280.79                        0.00  \n",
       "9998         275.22                        0.00  \n",
       "9999          50.64                        0.00  \n",
       "\n",
       "[10000 rows x 7 columns]"
      ]
     },
     "execution_count": 25,
     "metadata": {},
     "output_type": "execute_result"
    }
   ],
   "source": [
    "df"
   ]
  },
  {
   "cell_type": "code",
   "execution_count": 28,
   "metadata": {},
   "outputs": [
    {
     "name": "stdout",
     "output_type": "stream",
     "text": [
      "Label encoding completed and saved!\n"
     ]
    }
   ],
   "source": [
    "import pandas as pd\n",
    "import json\n",
    "\n",
    "# Load the dataset (assuming it's in a CSV file)\n",
    "df = pd.read_csv(\"irrigation_data.csv\")  # Update the filename accordingly\n",
    "\n",
    "# Creating label mappings\n",
    "labels = {\n",
    "    \"Soil Type\": {v: i for i, v in enumerate(df[\"Soil Type\"].unique())},\n",
    "    \"Crop Type\": {v: i for i, v in enumerate(df[\"Crop Type\"].unique())}\n",
    "}\n",
    "\n",
    "# Applying label encoding to the DataFrame\n",
    "df[\"Soil Type\"] = df[\"Soil Type\"].map(labels[\"Soil Type\"])\n",
    "df[\"Crop Type\"] = df[\"Crop Type\"].map(labels[\"Crop Type\"])\n",
    "\n",
    "# Save the encoded dataset\n",
    "df.to_csv(\"encoded_water_prediction_dataset.csv\", index=False)\n",
    "\n",
    "# Save labels as JSON\n",
    "with open(\"labels.json\", \"w\") as f:\n",
    "    json.dump(labels, f, indent=4)\n",
    "\n",
    "print(\"Label encoding completed and saved!\")\n"
   ]
  },
  {
   "cell_type": "code",
   "execution_count": null,
   "metadata": {},
   "outputs": [],
   "source": []
  }
 ],
 "metadata": {
  "kernelspec": {
   "display_name": "Python 3",
   "language": "python",
   "name": "python3"
  },
  "language_info": {
   "codemirror_mode": {
    "name": "ipython",
    "version": 3
   },
   "file_extension": ".py",
   "mimetype": "text/x-python",
   "name": "python",
   "nbconvert_exporter": "python",
   "pygments_lexer": "ipython3",
   "version": "3.12.0"
  }
 },
 "nbformat": 4,
 "nbformat_minor": 2
}
